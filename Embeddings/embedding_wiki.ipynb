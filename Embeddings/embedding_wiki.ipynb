{
 "cells": [
  {
   "cell_type": "markdown",
   "id": "fafd569b",
   "metadata": {},
   "source": [
    "# Embeddings\n",
    "본 노트북에서는, [자습서: Azure OpenAI Service 임베딩 및 문서 검색 살펴보기](https://learn.microsoft.com/en-us/azure/ai-services/openai/tutorials/embeddings?tabs=python-new%2Ccommand-line&pivots=programming-language-python)를 이용하여 Azure OpenAI 임베딩 API를 사용하여 문서 검색을 수행하는 과정을 실습합니다. text-embedding-ada-002 (Version 2) 모델을 이용하여 Wiki 데이터를 벡터 검색을 할 수 있도록 변환합니다.\n",
    "\n",
    "Azure OpenAI 리소스가 사전에 생성되어 있어야 합니다."
   ]
  },
  {
   "cell_type": "markdown",
   "id": "64756cfc",
   "metadata": {},
   "source": [
    "### 소요 시간\n",
    "\n",
    "이 노트북을 실행하는데는 15분 정도 소요됩니다."
   ]
  },
  {
   "cell_type": "code",
   "execution_count": null,
   "id": "4f0c43a9",
   "metadata": {},
   "outputs": [],
   "source": [
    "# Install the packages\\\n",
    "%pip install requests openai~=1.10"
   ]
  },
  {
   "cell_type": "markdown",
   "id": "a923e26a",
   "metadata": {},
   "source": [
    "#### 라이브러리 가져오기"
   ]
  },
  {
   "cell_type": "code",
   "execution_count": 69,
   "id": "bf5b8e76",
   "metadata": {},
   "outputs": [],
   "source": [
    "import os\n",
    "import re\n",
    "import requests\n",
    "import sys\n",
    "from num2words import num2words\n",
    "import os\n",
    "import pandas as pd\n",
    "import numpy as np\n",
    "import tiktoken\n",
    "from openai import AzureOpenAI\n",
    "from dotenv import load_dotenv"
   ]
  },
  {
   "cell_type": "markdown",
   "id": "612a4a39",
   "metadata": {},
   "source": [
    "#### CSV 파일을 읽고, Pandas DataFrame을 만듭니다."
   ]
  },
  {
   "cell_type": "code",
   "execution_count": null,
   "id": "2b9ad362",
   "metadata": {},
   "outputs": [],
   "source": [
    "df=pd.read_csv(os.path.join(os.getcwd(),'./data/wiki_data.csv')) # This assumes that you have placed the bill_sum_data.csv in the same directory you are running Jupyter Notebooks\n",
    "df"
   ]
  },
  {
   "cell_type": "markdown",
   "id": "d9fa56c5",
   "metadata": {},
   "source": [
    "#### ID, URL, TITLE, TEXT를 포함하는 df_wiki라는 새 DataFrame을 만듭니다."
   ]
  },
  {
   "cell_type": "code",
   "execution_count": null,
   "id": "b333d838",
   "metadata": {},
   "outputs": [],
   "source": [
    "df_wiki = df[['id', 'url', 'title', 'text']]\n",
    "df_wiki"
   ]
  },
  {
   "cell_type": "markdown",
   "id": "e35a82d9",
   "metadata": {},
   "source": [
    "#### 불필요한 공백을 제거하고 문장 부호를 정리하여 토큰화를 위한 데이터를 준비하여 간단한 데이터 정리를 수행합니다."
   ]
  },
  {
   "cell_type": "code",
   "execution_count": 52,
   "id": "73fd2c32",
   "metadata": {},
   "outputs": [],
   "source": [
    "pd.options.mode.chained_assignment = None #https://pandas.pydata.org/pandas-docs/stable/user_guide/indexing.html#evaluation-order-matters\n",
    "\n",
    "# s is input text\n",
    "def normalize_text(s, sep_token = \" \\n \"):\n",
    "    s = re.sub(r'\\s+',  ' ', s).strip()\n",
    "    s = re.sub(r\". ,\",\"\",s)\n",
    "    # remove all instances of multiple spaces\n",
    "    s = s.replace(\"..\",\".\")\n",
    "    s = s.replace(\". .\",\".\")\n",
    "    s = s.replace(\"\\n\", \"\")\n",
    "    s = s.strip()\n",
    "    \n",
    "    return s\n",
    "\n",
    "df_wiki['text']= df_wiki[\"text\"].apply(lambda x : normalize_text(x))"
   ]
  },
  {
   "cell_type": "markdown",
   "id": "ba989853",
   "metadata": {},
   "source": [
    "#### 토큰 제한에 비해 너무 긴 Text를 제거합니다."
   ]
  },
  {
   "cell_type": "code",
   "execution_count": null,
   "id": "a68a37fe",
   "metadata": {},
   "outputs": [],
   "source": [
    "tokenizer = tiktoken.get_encoding(\"cl100k_base\")\n",
    "df_wiki['n_tokens'] = df_wiki[\"text\"].apply(lambda x: len(tokenizer.encode(x)))\n",
    "df_wiki = df_wiki[df_wiki.n_tokens<8192]\n",
    "len(df_wiki)"
   ]
  },
  {
   "cell_type": "markdown",
   "id": "beff662e",
   "metadata": {},
   "source": [
    "#### df_wiki를 검토합니다."
   ]
  },
  {
   "cell_type": "code",
   "execution_count": null,
   "id": "a4de40a3",
   "metadata": {},
   "outputs": [],
   "source": [
    "df_wiki"
   ]
  },
  {
   "cell_type": "markdown",
   "metadata": {},
   "source": [
    "#### n_tokens 열과 텍스트가 궁극적으로 토큰화 되는 방식을 조금 더 이해하려면 다음 코드를 실행하는 것이 도움이 될 수 있습니다."
   ]
  },
  {
   "cell_type": "code",
   "execution_count": null,
   "id": "73e25143",
   "metadata": {},
   "outputs": [],
   "source": [
    "sample_encode = tokenizer.encode(df_wiki.text[0]) \n",
    "decode = tokenizer.decode_tokens_bytes(sample_encode)\n",
    "decode"
   ]
  },
  {
   "cell_type": "code",
   "execution_count": null,
   "id": "5ab42ead",
   "metadata": {},
   "outputs": [],
   "source": [
    "len(decode)"
   ]
  },
  {
   "cell_type": "markdown",
   "id": "c7e5ed3b",
   "metadata": {},
   "source": [
    "#### Azure OpenAI의 Embbeding 모델을 사용하여 Embbeding을 생성합니다. df_wiki['content_vector']에 \"Text\" 열에서 \"text-embedding-ada-002(Version 2)\" 모델로 embedding을 생성합니다."
   ]
  },
  {
   "cell_type": "code",
   "execution_count": 60,
   "id": "c587d121",
   "metadata": {},
   "outputs": [],
   "source": [
    "load_dotenv()\n",
    "azure_oai_endpoint = os.getenv(\"AZURE_OAI_ENDPOINT\")\n",
    "azure_oai_key = os.getenv(\"AZURE_OAI_KEY\")\n",
    "azure_oai_deployment = os.getenv(\"AZURE_OAI_DEPLOYMENT\")\n",
    "\n",
    "client = AzureOpenAI(\n",
    "  azure_endpoint=\"https://aoai-lab-jl.openai.azure.com/\",\n",
    "  api_key=\"3722670f4c384a2fa559f748426468f8\",\n",
    "  api_version = \"2024-02-01\",)\n",
    "\n",
    "def generate_embeddings(text, model=\"text-embedding-ada-002\"): # model = \"deployment_name\"\n",
    "    return client.embeddings.create(input = [text], model=model).data[0].embedding\n",
    "\n",
    "df_wiki['content_vector'] = df_wiki[\"text\"].apply(lambda x : generate_embeddings (x, model = 'text-embedding-ada-002'))\n",
    "# model should be set to the deployment name you chose when you deployed the text-embedding-ada-002 (Version 2) model"
   ]
  },
  {
   "cell_type": "markdown",
   "id": "583ed96a",
   "metadata": {},
   "source": [
    "#### df_wiki의 \"'id', 'url', 'title', 'text', 'n_tokens', 'content_vector'\" 열을 \"wiki_data_embeddings.csv\"라는 CSV 파일에 저장합니다."
   ]
  },
  {
   "cell_type": "code",
   "execution_count": 67,
   "id": "35a126aa",
   "metadata": {},
   "outputs": [],
   "source": [
    "df_wiki = df_wiki[['id', 'url', 'title', 'text', 'n_tokens', 'content_vector']]\n",
    "\n",
    "df_wiki\n",
    "\n",
    "df_wiki.to_csv('./data/wiki_data_embeddings.csv', index=False)"
   ]
  },
  {
   "cell_type": "markdown",
   "id": "6057e240",
   "metadata": {},
   "source": [
    "#### 아래의 Search 코드 블록을 실행합니다. \"4월과 8월에 대한 정보를 알려줘\"라는 검색 쿼리를 포함합니다. Cosine 유사성으로 4월과 8월에 대한 정보에 가장 가깝게 순위가 매겨진 Text를 찾습니다."
   ]
  },
  {
   "cell_type": "code",
   "execution_count": 70,
   "id": "866d2334",
   "metadata": {},
   "outputs": [
    {
     "data": {
      "text/html": [
       "<div>\n",
       "<style scoped>\n",
       "    .dataframe tbody tr th:only-of-type {\n",
       "        vertical-align: middle;\n",
       "    }\n",
       "\n",
       "    .dataframe tbody tr th {\n",
       "        vertical-align: top;\n",
       "    }\n",
       "\n",
       "    .dataframe thead th {\n",
       "        text-align: right;\n",
       "    }\n",
       "</style>\n",
       "<table border=\"1\" class=\"dataframe\">\n",
       "  <thead>\n",
       "    <tr style=\"text-align: right;\">\n",
       "      <th></th>\n",
       "      <th>id</th>\n",
       "      <th>url</th>\n",
       "      <th>title</th>\n",
       "      <th>text</th>\n",
       "      <th>n_tokens</th>\n",
       "      <th>content_vector</th>\n",
       "      <th>similarities</th>\n",
       "    </tr>\n",
       "  </thead>\n",
       "  <tbody>\n",
       "    <tr>\n",
       "      <th>1</th>\n",
       "      <td>2</td>\n",
       "      <td>https://simple.wikipedia.org/wiki/August</td>\n",
       "      <td>August</td>\n",
       "      <td>August (Aug.) is the eighth month of the year ...</td>\n",
       "      <td>2179</td>\n",
       "      <td>[0.0011972341453656554, 0.0028177648782730103,...</td>\n",
       "      <td>0.805780</td>\n",
       "    </tr>\n",
       "    <tr>\n",
       "      <th>0</th>\n",
       "      <td>1</td>\n",
       "      <td>https://simple.wikipedia.org/wiki/April</td>\n",
       "      <td>April</td>\n",
       "      <td>April is the fourth month of the year in the J...</td>\n",
       "      <td>3902</td>\n",
       "      <td>[-0.011200855486094952, -0.016985775902867317,...</td>\n",
       "      <td>0.798313</td>\n",
       "    </tr>\n",
       "    <tr>\n",
       "      <th>24</th>\n",
       "      <td>48</td>\n",
       "      <td>https://simple.wikipedia.org/wiki/Astronomy</td>\n",
       "      <td>Astronomy</td>\n",
       "      <td>Astronomy (from the Greek astron (ἄστρον) mean...</td>\n",
       "      <td>2564</td>\n",
       "      <td>[0.020063724368810654, 0.011303506791591644, 0...</td>\n",
       "      <td>0.710493</td>\n",
       "    </tr>\n",
       "    <tr>\n",
       "      <th>28</th>\n",
       "      <td>52</td>\n",
       "      <td>https://simple.wikipedia.org/wiki/Afghanistan</td>\n",
       "      <td>Afghanistan</td>\n",
       "      <td>Afghanistan, officially the Islamic Emirate of...</td>\n",
       "      <td>3992</td>\n",
       "      <td>[-0.00850854441523552, -0.02313825488090515, -...</td>\n",
       "      <td>0.708763</td>\n",
       "    </tr>\n",
       "  </tbody>\n",
       "</table>\n",
       "</div>"
      ],
      "text/plain": [
       "    id                                            url        title  \\\n",
       "1    2       https://simple.wikipedia.org/wiki/August       August   \n",
       "0    1        https://simple.wikipedia.org/wiki/April        April   \n",
       "24  48    https://simple.wikipedia.org/wiki/Astronomy    Astronomy   \n",
       "28  52  https://simple.wikipedia.org/wiki/Afghanistan  Afghanistan   \n",
       "\n",
       "                                                 text  n_tokens  \\\n",
       "1   August (Aug.) is the eighth month of the year ...      2179   \n",
       "0   April is the fourth month of the year in the J...      3902   \n",
       "24  Astronomy (from the Greek astron (ἄστρον) mean...      2564   \n",
       "28  Afghanistan, officially the Islamic Emirate of...      3992   \n",
       "\n",
       "                                       content_vector  similarities  \n",
       "1   [0.0011972341453656554, 0.0028177648782730103,...      0.805780  \n",
       "0   [-0.011200855486094952, -0.016985775902867317,...      0.798313  \n",
       "24  [0.020063724368810654, 0.011303506791591644, 0...      0.710493  \n",
       "28  [-0.00850854441523552, -0.02313825488090515, -...      0.708763  "
      ]
     },
     "metadata": {},
     "output_type": "display_data"
    }
   ],
   "source": [
    "def cosine_similarity(a, b):\n",
    "    return np.dot(a, b) / (np.linalg.norm(a) * np.linalg.norm(b))\n",
    "\n",
    "def get_embedding(text, model=\"text-embedding-ada-002\"): # model = \"deployment_name\"\n",
    "    return client.embeddings.create(input = [text], model=model).data[0].embedding\n",
    "\n",
    "def search_docs(df, user_query, top_n=4, to_print=True):\n",
    "    embedding = get_embedding(\n",
    "        user_query,\n",
    "        model=\"text-embedding-ada-002\" # model should be set to the deployment name you chose when you deployed the text-embedding-ada-002 (Version 2) model\n",
    "    )\n",
    "    df[\"similarities\"] = df.content_vector.apply(lambda x: cosine_similarity(x, embedding))\n",
    "\n",
    "    res = (\n",
    "        df.sort_values(\"similarities\", ascending=False)\n",
    "        .head(top_n)\n",
    "    )\n",
    "    if to_print:\n",
    "        display(res)\n",
    "    return res\n",
    "\n",
    "\n",
    "res = search_docs(df_wiki, \"Can I get the information abour April and August?\", top_n=4)"
   ]
  },
  {
   "cell_type": "markdown",
   "id": "2358727f",
   "metadata": {},
   "source": [
    "#### 이 방식을 사용하면 자료의 문서 전체에 Embedding을 검색 메커니즘으로 사용할 수 있습니다. 사용자는 상위 검색 결과를 가져와 다운스트림 작업에 사용할 수 있습니다."
   ]
  }
 ],
 "metadata": {
  "kernelspec": {
   "display_name": "Python 3",
   "language": "python",
   "name": "python3"
  },
  "language_info": {
   "codemirror_mode": {
    "name": "ipython",
    "version": 3
   },
   "file_extension": ".py",
   "mimetype": "text/x-python",
   "name": "python",
   "nbconvert_exporter": "python",
   "pygments_lexer": "ipython3",
   "version": "3.12.7"
  }
 },
 "nbformat": 4,
 "nbformat_minor": 5
}
